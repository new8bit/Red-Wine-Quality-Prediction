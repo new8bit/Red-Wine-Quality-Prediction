{
 "cells": [
  {
   "cell_type": "markdown",
   "id": "5ecd2788-2d7c-450a-ba1f-fff7a2ada8b9",
   "metadata": {},
   "source": [
    "# Ranom Forest"
   ]
  },
  {
   "cell_type": "code",
   "execution_count": null,
   "id": "b4c4c6fb-4d41-48b1-870f-f49bb1cd38af",
   "metadata": {},
   "outputs": [],
   "source": [
    "import pandas as pd\n",
    "from sklearn.preprocessing import LabelEncoder\n",
    "from sklearn.model_selection import train_test_split\n",
    "from sklearn.metrics import accuracy_score\n",
    "from sklearn.ensemble import RandomForestClassifier, GradientBoostingClassifier\n",
    "from sklearn.tree import DecisionTreeClassifier\n",
    "from sklearn.model_selection import cross_val_score\n",
    "from sklearn.model_selection import KFold\n",
    "from sklearn.decomposition import PCA\n",
    "from sklearn.model_selection import GridSearchCV"
   ]
  },
  {
   "cell_type": "markdown",
   "id": "f5fc40ab-97db-4656-9cdb-a526613fa155",
   "metadata": {},
   "source": [
    "# Feature Extraction"
   ]
  },
  {
   "cell_type": "code",
   "execution_count": null,
   "id": "774120a2-44a4-4701-809d-6727026af031",
   "metadata": {},
   "outputs": [],
   "source": [
    "pca_model = PCA(n_components=8).fit(train_df.drop(columns=['quality'])) \n",
    "trainpca = pca_model.transform(train_df.drop(columns=['quality']))  \n",
    "testpca = pca_model.transform(test_df.drop(columns=['quality']))"
   ]
  },
  {
   "cell_type": "markdown",
   "id": "c3b8bd7d-5c4b-4171-a078-2af4aa4a249f",
   "metadata": {},
   "source": [
    "# Parameters Grid"
   ]
  },
  {
   "cell_type": "code",
   "execution_count": null,
   "id": "1473d50f-36fd-43b3-96ee-ab982861fa3b",
   "metadata": {},
   "outputs": [],
   "source": [
    "param_grid = {\n",
    "    'n_estimators': [50, 100, 200],        \n",
    "    'max_depth': [10, 50, 100],           \n",
    "    'min_samples_split': [2, 5, 10],            \n",
    "    'min_samples_leaf': [1, 2, 4],              \n",
    "    'max_features': ['sqrt', 'log2'],   \n",
    "    'bootstrap': [True, False]                 \n",
    "}"
   ]
  },
  {
   "cell_type": "markdown",
   "id": "903f92ca-cdbe-4e30-8eec-80e307e20524",
   "metadata": {},
   "source": [
    "# Grid Search&Best Model"
   ]
  },
  {
   "cell_type": "code",
   "execution_count": null,
   "id": "664f55aa-bdc7-4c2a-b530-0d7d81ed2b87",
   "metadata": {},
   "outputs": [],
   "source": [
    "grid_search = GridSearchCV(model, param_grid, cv=2, scoring='accuracy', n_jobs=-1, verbose=1)\n",
    "grid_search.fit(x_train, y_train)\n",
    "\n",
    "best_model = grid_search.best_estimator_\n",
    "\n",
    "print(\"Best parameters:\", grid_search.best_params_)"
   ]
  },
  {
   "cell_type": "markdown",
   "id": "1b269d5f-6406-48fd-b465-b40a076e3b7f",
   "metadata": {},
   "source": [
    "Fitting 2 folds for each of 324 candidates, totalling 648 fits\n",
    "Best parameters: {'bootstrap': True, 'max_depth': 50, 'max_features': 'sqrt', 'min_samples_leaf': 1, 'min_samples_split': 5, 'n_estimators': 100}"
   ]
  },
  {
   "cell_type": "markdown",
   "id": "52896d25-0b28-418f-ae8c-5affa3acf3b2",
   "metadata": {},
   "source": [
    "# Best Model Prediction Accuracy"
   ]
  },
  {
   "cell_type": "code",
   "execution_count": null,
   "id": "9d5e1487-115b-4619-b125-5f87596adf70",
   "metadata": {},
   "outputs": [],
   "source": [
    "acc = []\n",
    "d = {}\n",
    "clf = best_model\n",
    "\n",
    "clf.fit(x_train, y_train)\n",
    "pred = clf.predict(x_test)\n",
    "acc.append(accuracy_score(pred, y_test))\n",
    "d = {'Modelling Algo': 'Best model', 'Accuracy': acc}\n",
    "print(d)"
   ]
  },
  {
   "cell_type": "markdown",
   "id": "f482d3a0-e036-4de3-8166-678921851fb7",
   "metadata": {},
   "source": [
    "{'Modelling Algo': 'Best model', 'Accuracy': [0.6625]}"
   ]
  },
  {
   "cell_type": "markdown",
   "id": "9f01bd7f-991c-49c1-aebb-993458f21b4c",
   "metadata": {},
   "source": [
    "# 5 Folds Across Validaiton"
   ]
  },
  {
   "cell_type": "code",
   "execution_count": null,
   "id": "77de9687-1479-4a57-a236-e44baffdd4c7",
   "metadata": {},
   "outputs": [],
   "source": [
    "kfold = KFold(n_splits=5, random_state=42, shuffle=True)\n",
    "scores = cross_val_score(clf, x_train, y_train, cv=kfold)  \n",
    "print(f'random forest: Mean Accuracy = {scores.mean()}, Standard Deviation = {scores.std()}')"
   ]
  },
  {
   "cell_type": "markdown",
   "id": "a681fe41-fc2d-455c-a132-cb176b209628",
   "metadata": {},
   "source": [
    "random forest: Mean Accuracy = 0.6684256886611146, Standard Deviation = 0.03205876017396923"
   ]
  }
 ],
 "metadata": {
  "kernelspec": {
   "display_name": "Python 3 (ipykernel)",
   "language": "python",
   "name": "python3"
  },
  "language_info": {
   "codemirror_mode": {
    "name": "ipython",
    "version": 3
   },
   "file_extension": ".py",
   "mimetype": "text/x-python",
   "name": "python",
   "nbconvert_exporter": "python",
   "pygments_lexer": "ipython3",
   "version": "3.9.6"
  }
 },
 "nbformat": 4,
 "nbformat_minor": 5
}
